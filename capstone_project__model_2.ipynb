{
  "nbformat": 4,
  "nbformat_minor": 0,
  "metadata": {
    "colab": {
      "provenance": [],
      "collapsed_sections": [
        "oFZuMqATdOUp",
        "ut-JEmr_sv1R",
        "cJYrNODws4BL"
      ],
      "authorship_tag": "ABX9TyOxxrvN6p49vHbnZRdrCXFc",
      "include_colab_link": true
    },
    "kernelspec": {
      "name": "python3",
      "display_name": "Python 3"
    },
    "language_info": {
      "name": "python"
    }
  },
  "cells": [
    {
      "cell_type": "markdown",
      "metadata": {
        "id": "view-in-github",
        "colab_type": "text"
      },
      "source": [
        "<a href=\"https://colab.research.google.com/github/gottcha63/capstone_project/blob/main/capstone_project__model_2.ipynb\" target=\"_parent\"><img src=\"https://colab.research.google.com/assets/colab-badge.svg\" alt=\"Open In Colab\"/></a>"
      ]
    },
    {
      "cell_type": "markdown",
      "source": [
        "**INSTALLING** **LIBRARIES**"
      ],
      "metadata": {
        "id": "1vkvOUI_dAeP"
      }
    },
    {
      "cell_type": "code",
      "source": [
        "!pip install pathway bokeh --quiet"
      ],
      "metadata": {
        "id": "-egXH_3DOGjD"
      },
      "execution_count": null,
      "outputs": []
    },
    {
      "cell_type": "markdown",
      "source": [
        "# Step 1: Importing and Preprocessing the Data"
      ],
      "metadata": {
        "id": "oFZuMqATdOUp"
      }
    },
    {
      "cell_type": "code",
      "execution_count": null,
      "metadata": {
        "id": "txGsNA9YJHKb"
      },
      "outputs": [],
      "source": [
        "import pandas as pd\n",
        "import numpy as np\n",
        "import matplotlib.pyplot as plt\n",
        "import datetime\n",
        "from datetime import datetime\n",
        "import pathway as pw\n",
        "import bokeh.plotting\n",
        "import panel as pn"
      ]
    },
    {
      "cell_type": "code",
      "source": [
        "data = pd.read_csv('/content/dataset_capstone project.csv')\n",
        "data.head(10)"
      ],
      "metadata": {
        "id": "WVEwswCUODXB"
      },
      "execution_count": null,
      "outputs": []
    },
    {
      "cell_type": "code",
      "source": [
        "#seeing that data has any null values\n",
        "\n",
        "data.isnull().sum()\n"
      ],
      "metadata": {
        "id": "XQK9MvU_WqCv"
      },
      "execution_count": null,
      "outputs": []
    },
    {
      "cell_type": "code",
      "source": [
        "# Combine the 'LastUpdatedDate' and 'LastUpdatedTime' columns into a single datetime column\n",
        "data['Timestamp'] = pd.to_datetime(data['LastUpdatedDate'] + ' ' + data['LastUpdatedTime'],\n",
        "                                  format='%d-%m-%Y %H:%M:%S')\n",
        "\n",
        "# Sort the DataFrame by the new 'Timestamp' column and reset the index\n",
        "data = data.sort_values('Timestamp').reset_index(drop=True)"
      ],
      "metadata": {
        "id": "MNaZmWshcTx5"
      },
      "execution_count": null,
      "outputs": []
    },
    {
      "cell_type": "markdown",
      "source": [
        "CREATING A STREAMING DATA"
      ],
      "metadata": {
        "id": "wPRQSHlMdVWW"
      }
    },
    {
      "cell_type": "code",
      "source": [
        "# Save the selected columns to a CSV file for streaming or downstream processing\n",
        "data[[\"ID\",\"Timestamp\", \"Occupancy\", \"Capacity\",\"QueueLength\",\"VehicleType\",\"TrafficConditionNearby\",\"IsSpecialDay\"]].to_csv(\"parking_stream_2.csv\", index=False)\n"
      ],
      "metadata": {
        "id": "Sxi3hNMRc2qi"
      },
      "execution_count": null,
      "outputs": []
    },
    {
      "cell_type": "code",
      "source": [
        "class ParkingSchema(pw.Schema):\n",
        "  ID : str         # Unique identifier for the parking location\n",
        "  Timestamp: str   # Timestamp of the observation (should ideally be in ISO format)\n",
        "  Occupancy: int   # Number of occupied parking spots\n",
        "  Capacity: int    # Total parking capacity at the location\n",
        "  QueueLength: int # Length of the parking queue\n",
        "  VehicleType: str # type of vehicle\n",
        "  TrafficConditionNearby: str # condition of traffic near by\n",
        "  IsSpecialDay: int # whether it is a special day or not"
      ],
      "metadata": {
        "id": "zkX_Pra1c2yF"
      },
      "execution_count": null,
      "outputs": []
    },
    {
      "cell_type": "code",
      "source": [
        "# Load the data as a simulated stream using Pathway's replay_csv function\n",
        "# This replays the CSV data at a controlled input rate to mimic real-time streaming\n",
        "# input_rate=1000 means approximately 1000 rows per second will be ingested into the stream.\n",
        "\n",
        "data_stream = pw.demo.replay_csv(\"parking_stream_2.csv\", schema=ParkingSchema, input_rate=1000)"
      ],
      "metadata": {
        "id": "JiBH01hbfzUb"
      },
      "execution_count": null,
      "outputs": []
    },
    {
      "cell_type": "code",
      "source": [
        "# Define the datetime format to parse the 'Timestamp' column\n",
        "fmt = \"%Y-%m-%d %H:%M:%S\"\n",
        "\n",
        "# Add new columns to the data stream:\n",
        "# - 't' contains the parsed full datetime\n",
        "# - 'day' extracts the date part and resets the time to midnight (useful for day-level aggregations)\n",
        "data_with_time = data_stream.with_columns(\n",
        "    time = data_stream.Timestamp.dt.strptime(fmt),\n",
        "    day = data_stream.Timestamp.dt.strptime(fmt).dt.strftime(\"%Y-%m-%dT00:00:00\")\n",
        ")"
      ],
      "metadata": {
        "id": "-sdIH5eUEwKv"
      },
      "execution_count": null,
      "outputs": []
    },
    {
      "cell_type": "markdown",
      "source": [
        "# Step-2 : creating a pricing function"
      ],
      "metadata": {
        "id": "ut-JEmr_sv1R"
      }
    },
    {
      "cell_type": "code",
      "source": [
        "BASE_PRICE = 10.0\n",
        "\n",
        "\n",
        "def model2_demand_based_model(occ, cap, queue, traf, special, vt):\n",
        "    # Feature engineering\n",
        "    occ_rate = occ / cap\n",
        "    vehicle_weight = {\"car\":1.0, \"bike\":0.5, \"truck\":1.5}.get(vt, 1.0)\n",
        "    traf_weight = {\"high\":1.0, \"average\":0.5,\"low\":0.0}.get(traf, 1.0)\n",
        "    # Demand-based formula\n",
        "    demand = 2.0 * occ_rate + 1.5 * queue - 1.2 * traf_weight + 5.0 * special + vehicle_weight\n",
        "    #normalized demand\n",
        "    norm =  min(max(demand / 20, 0.0), 1.0)\n",
        "    price = BASE_PRICE * (1.0 + 0.5 * norm)\n",
        "    norm_price = float(max(0.5 * BASE_PRICE, min(price, 2.0 * BASE_PRICE)))\n",
        "    return norm_price\n",
        "\n",
        "\n",
        "# now we can acces the prices_stream which includes claculated price column\n",
        "prices_stream = data_with_time.with_columns(\n",
        "      Price = pw.udf(model2_demand_based_model)(data_with_time.Occupancy, data_with_time.Capacity, data_with_time.QueueLength, data_with_time.TrafficConditionNearby, data_with_time.IsSpecialDay, data_with_time.VehicleType)\n",
        "    )"
      ],
      "metadata": {
        "id": "nU6q4KFLrVfP"
      },
      "execution_count": null,
      "outputs": []
    },
    {
      "cell_type": "markdown",
      "source": [
        "#Step 3: Visualizing Daily Price Fluctuations with a Bokeh Plot\n"
      ],
      "metadata": {
        "id": "cJYrNODws4BL"
      }
    },
    {
      "cell_type": "code",
      "source": [
        "#Activate the Panel extension to enable interactive visualizations\n",
        "pn.extension()\n",
        "\n",
        "# Define a custom Bokeh plotting function that takes a data source (from Pathway) and returns a figure\n",
        "def price_plotter(source):\n",
        "\n",
        "    # Create a Bokeh figure with datetime x-axis\n",
        "    fig = bokeh.plotting.figure(\n",
        "        height=500,\n",
        "        width=1000,\n",
        "        title=\"Pathway: Daily Parking Price\",\n",
        "        x_axis_type=\"datetime\",  # Ensure time-based data is properly formatted on the x-axis\n",
        "    )\n",
        "    # Plot a line graph showing how the price evolves over time\n",
        "    fig.line(\"time\", \"Price\", source=source, line_width=2, color=\"navy\")\n",
        "\n",
        "    # Overlay red circles at each data point for better visibility\n",
        "    fig.circle(\"time\", \"Price\", source=source, size=6, color=\"red\")\n",
        "\n",
        "    return fig\n",
        "\n",
        "# Explicitly select columns before plotting\n",
        "prices_for_plot = prices_stream.select(prices_stream.time, prices_stream.Price)\n",
        "\n",
        "# Use Pathway's built-in .plot() method to bind the data stream (delta_window) to the Bokeh plot\n",
        "# - 'price_plotter' is the rendering function\n",
        "# - 'sorting_col' is removed as sorting is now handled within the plotter function\n",
        "viz = prices_for_plot.plot(price_plotter)\n",
        "\n",
        "# Create a Panel layout and make it servable as a web app\n",
        "# This line enables the interactive plot to be displayed when the app is served\n",
        "pn.Column(viz).servable()"
      ],
      "metadata": {
        "id": "C5aAbBXioMvc"
      },
      "execution_count": null,
      "outputs": []
    },
    {
      "cell_type": "code",
      "source": [
        "# Start the Pathway pipeline execution in the background\n",
        "# - This triggers the real-time data stream processing defined above\n",
        "# - %%capture --no-display suppresses output in the notebook interface\n",
        "\n",
        "%%capture --no-display\n",
        "pw.run()"
      ],
      "metadata": {
        "id": "5fCXhM6eorw5"
      },
      "execution_count": null,
      "outputs": []
    }
  ]
}